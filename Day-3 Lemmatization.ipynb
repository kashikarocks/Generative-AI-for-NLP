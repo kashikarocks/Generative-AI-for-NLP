{
 "cells": [
  {
   "cell_type": "markdown",
   "id": "29da3248",
   "metadata": {},
   "source": [
    "# Lemmatization"
   ]
  },
  {
   "cell_type": "markdown",
   "id": "a9e5d782",
   "metadata": {},
   "source": [
    "**Lemmatization** in NLP is the process of **reducing a word to its** base or **dictionary form**, \n",
    "known as the lemma. It differs from stemming by considering the context and meaning of the word\n",
    "to ensure the resulting lemma is a valid word in the language. "
   ]
  },
  {
   "attachments": {
    "Screenshot%20from%202025-07-16%2001-40-21.jpeg": {
     "image/jpeg": "[encoded data removed]"
    }
   },
   "cell_type": "markdown",
   "id": "f94d83fb",
   "metadata": {},
   "source": [
    "![Screenshot%20from%202025-07-16%2001-40-21.jpeg](attachment:Screenshot%20from%202025-07-16%2001-40-21.jpeg)"
   ]
  },
  {
   "cell_type": "code",
   "execution_count": 1,
   "id": "13aedde1",
   "metadata": {},
   "outputs": [],
   "source": [
    "import nltk"
   ]
  },
  {
   "cell_type": "code",
   "execution_count": 2,
   "id": "ee3557d7",
   "metadata": {},
   "outputs": [],
   "source": [
    "paragraph = \"\"\"I have three visions for India. In 3000 years of our history, people from all over \n",
    "               the world have come and invaded us, captured our lands, conquered our minds. \n",
    "               From Alexander onwards, the Greeks, the Turks, the Moguls, the Portuguese, the British,\n",
    "               the French, the Dutch, all of them came and looted us, took over what was ours. \n",
    "               Yet we have not done this to any other nation. We have not conquered anyone. \n",
    "               We have not grabbed their land, their culture, \n",
    "               their history and tried to enforce our way of life on them. \n",
    "               Why? Because we respect the freedom of others.That is why my \n",
    "               first vision is that of freedom. I believe that India got its first vision of \n",
    "               this in 1857, when we started the War of Independence. It is this freedom that\n",
    "               we must protect and nurture and build on. If we are not free, no one will respect us.\n",
    "               My second vision for India’s development. For fifty years we have been a developing nation.\n",
    "               It is time we see ourselves as a developed nation. We are among the top 5 nations of the world\n",
    "               in terms of GDP. We have a 10 percent growth rate in most areas. Our poverty levels are falling.\n",
    "               Our achievements are being globally recognised today. Yet we lack the self-confidence to\n",
    "               see ourselves as a developed nation, self-reliant and self-assured. Isn’t this incorrect?\n",
    "               I have a third vision. India must stand up to the world. Because I believe that unless India \n",
    "               stands up to the world, no one will respect us. Only strength respects strength. We must be \n",
    "               strong not only as a military power but also as an economic power. Both must go hand-in-hand. \n",
    "               My good fortune was to have worked with three great minds. Dr. Vikram Sarabhai of the Dept. of \n",
    "               space, Professor Satish Dhawan, who succeeded him and Dr. Brahm Prakash, father of nuclear material.\n",
    "               I was lucky to have worked with all three of them closely and consider this the great opportunity of my life. \n",
    "               I see four milestones in my career\"\"\"            \n"
   ]
  },
  {
   "cell_type": "code",
   "execution_count": 3,
   "id": "e7cb3a8e",
   "metadata": {},
   "outputs": [],
   "source": [
    "sentences = nltk.sent_tokenize(paragraph)"
   ]
  },
  {
   "cell_type": "code",
   "execution_count": 4,
   "id": "1dcd7ca6",
   "metadata": {},
   "outputs": [],
   "source": [
    "from nltk.stem import WordNetLemmatizer\n",
    "from nltk.corpus import stopwords"
   ]
  },
  {
   "cell_type": "code",
   "execution_count": 5,
   "id": "48f504ac",
   "metadata": {},
   "outputs": [],
   "source": [
    "lemmatizer = WordNetLemmatizer()"
   ]
  },
  {
   "cell_type": "code",
   "execution_count": 6,
   "id": "78873ac1",
   "metadata": {},
   "outputs": [
    {
     "name": "stdout",
     "output_type": "stream",
     "text": [
      "I three vision India .\n",
      "In 3000 year history , people world come invaded u , captured land , conquered mind .\n",
      "From Alexander onwards , Greeks , Turks , Moguls , Portuguese , British , French , Dutch , came looted u , took .\n",
      "Yet done nation .\n",
      "We conquered anyone .\n",
      "We grabbed land , culture , history tried enforce way life .\n",
      "Why ?\n",
      "Because respect freedom others.That first vision freedom .\n",
      "I believe India got first vision 1857 , started War Independence .\n",
      "It freedom must protect nurture build .\n",
      "If free , one respect u .\n",
      "My second vision India ’ development .\n",
      "For fifty year developing nation .\n",
      "It time see developed nation .\n",
      "We among top 5 nation world term GDP .\n",
      "We 10 percent growth rate area .\n",
      "Our poverty level falling .\n",
      "Our achievement globally recognised today .\n",
      "Yet lack self-confidence see developed nation , self-reliant self-assured .\n",
      "Isn ’ incorrect ?\n",
      "I third vision .\n",
      "India must stand world .\n",
      "Because I believe unless India stand world , one respect u .\n",
      "Only strength respect strength .\n",
      "We must strong military power also economic power .\n",
      "Both must go hand-in-hand .\n",
      "My good fortune worked three great mind .\n",
      "Dr. Vikram Sarabhai Dept .\n",
      "space , Professor Satish Dhawan , succeeded Dr. Brahm Prakash , father nuclear material .\n",
      "I lucky worked three closely consider great opportunity life .\n",
      "I see four milestone career\n"
     ]
    }
   ],
   "source": [
    "for i in range(len(sentences)):\n",
    "    words = nltk.word_tokenize(sentences[i])\n",
    "    words = [lemmatizer.lemmatize(word) for word in words if word not in set(stopwords.words('english'))]\n",
    "    sentences[i] = ' '.join(words)  \n",
    "    print(sentences[i])"
   ]
  }
 ],
 "metadata": {
  "kernelspec": {
   "display_name": "Python 3 (ipykernel)",
   "language": "python",
   "name": "python3"
  },
  "language_info": {
   "codemirror_mode": {
    "name": "ipython",
    "version": 3
   },
   "file_extension": ".py",
   "mimetype": "text/x-python",
   "name": "python",
   "nbconvert_exporter": "python",
   "pygments_lexer": "ipython3",
   "version": "3.9.12"
  }
 },
 "nbformat": 4,
 "nbformat_minor": 5
}
