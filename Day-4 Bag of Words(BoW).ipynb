{
 "cells": [
  {
   "cell_type": "markdown",
   "id": "e0cff127",
   "metadata": {},
   "source": [
    "# Bag Of Words"
   ]
  },
  {
   "cell_type": "markdown",
   "id": "a9da62c8",
   "metadata": {},
   "source": [
    "In Natural Language Processing (NLP), a bag-of-words (BoW) model is a method for representing \n",
    "text data by counting the occurrences of words within a document, disregarding grammar and word order. \n",
    "It's a simple but effective way to convert text into a numerical format that machine learning \n",
    "algorithms can understand."
   ]
  },
  {
   "cell_type": "markdown",
   "id": "ea132cd0",
   "metadata": {},
   "source": [
    "**ADVANTAGES:-**\n",
    "   1) Simplicity: Easy to understand and implement.\n",
    "\n",
    "   2) Efficiency: Relatively fast to compute.\n",
    "\n",
    "   3) Flexibility: Can be used with different types of text data"
   ]
  },
  {
   "cell_type": "markdown",
   "id": "c623c99e",
   "metadata": {},
   "source": [
    "**Disadvantages:-**\n",
    "\n",
    "    1) Ignores word order: Losing semantic information. \n",
    "\n",
    "    2) High dimensionality: The vocabulary can become very large, especially with large datasets, \n",
    "        leading to computational issues. \n",
    "\n",
    "    3) Ignores word relationships: Doesn't capture relationships between words. "
   ]
  },
  {
   "cell_type": "markdown",
   "id": "941ee18c",
   "metadata": {},
   "source": [
    "**Applications:**\n",
    "\n",
    "    1) Text classification: Categorizing documents into different classes.\n",
    "    2) Spam detection: Identifying spam emails.\n",
    "    3) Sentiment analysis: Determining the sentiment expressed in text.\n",
    "    4) Information retrieval: Finding relevant documents based on keywords"
   ]
  },
  {
   "cell_type": "code",
   "execution_count": 1,
   "id": "2d35eca2",
   "metadata": {},
   "outputs": [],
   "source": [
    "import nltk"
   ]
  },
  {
   "cell_type": "code",
   "execution_count": 2,
   "id": "215deb73",
   "metadata": {},
   "outputs": [],
   "source": [
    "import re"
   ]
  },
  {
   "cell_type": "code",
   "execution_count": 3,
   "id": "e59d9bb4",
   "metadata": {},
   "outputs": [],
   "source": [
    "paragraph = \"\"\"I have three visions for India. In 3000 years of our history, people from all over \n",
    "               the world have come and invaded us, captured our lands, conquered our minds. \n",
    "               From Alexander onwards, the Greeks, the Turks, the Moguls, the Portuguese, the British,\n",
    "               the French, the Dutch, all of them came and looted us, took over what was ours. \n",
    "               Yet we have not done this to any other nation. We have not conquered anyone. \n",
    "               We have not grabbed their land, their culture, \n",
    "               their history and tried to enforce our way of life on them. \n",
    "               Why? Because we respect the freedom of others.That is why my \n",
    "               first vision is that of freedom. I believe that India got its first vision of \n",
    "               this in 1857, when we started the War of Independence. It is this freedom that\n",
    "               we must protect and nurture and build on. If we are not free, no one will respect us.\n",
    "               My second vision for India’s development. For fifty years we have been a developing nation.\n",
    "               It is time we see ourselves as a developed nation. We are among the top 5 nations of the world\n",
    "               in terms of GDP. We have a 10 percent growth rate in most areas. Our poverty levels are falling.\n",
    "               Our achievements are being globally recognised today. Yet we lack the self-confidence to\n",
    "               see ourselves as a developed nation, self-reliant and self-assured. Isn’t this incorrect?\n",
    "               I have a third vision. India must stand up to the world. Because I believe that unless India \n",
    "               stands up to the world, no one will respect us. Only strength respects strength. We must be \n",
    "               strong not only as a military power but also as an economic power. Both must go hand-in-hand. \n",
    "               My good fortune was to have worked with three great minds. Dr. Vikram Sarabhai of the Dept. of \n",
    "               space, Professor Satish Dhawan, who succeeded him and Dr. Brahm Prakash, father of nuclear material.\n",
    "               I was lucky to have worked with all three of them closely and consider this the great opportunity of my life. \n",
    "               I see four milestones in my career\"\"\"              \n"
   ]
  },
  {
   "cell_type": "code",
   "execution_count": 4,
   "id": "f9a1a0cd",
   "metadata": {},
   "outputs": [],
   "source": [
    "sentences =  nltk.sent_tokenize(paragraph)"
   ]
  },
  {
   "cell_type": "code",
   "execution_count": 5,
   "id": "3f395ec7",
   "metadata": {},
   "outputs": [],
   "source": [
    "corpus = []"
   ]
  },
  {
   "cell_type": "code",
   "execution_count": 6,
   "id": "f8c997f0",
   "metadata": {},
   "outputs": [],
   "source": [
    "from nltk.stem import PorterStemmer\n",
    "from nltk.corpus import stopwords\n",
    "stemmer = PorterStemmer()"
   ]
  },
  {
   "cell_type": "code",
   "execution_count": 7,
   "id": "c802c36b",
   "metadata": {},
   "outputs": [],
   "source": [
    "for i in range(len(sentences)):\n",
    "    review = re.sub('[^a-zA-Z]', ' ', sentences[i]) #substitute characters other than a-z or A-Z with ' '(Spaces) and ^ represents to not\n",
    "    review = review.lower()\n",
    "    review = review.split()\n",
    "    review = [stemmer.stem(word) for word in review if word not in set(stopwords.words('english'))]\n",
    "    review = ' '.join(review)\n",
    "    corpus.append(review)    "
   ]
  },
  {
   "cell_type": "code",
   "execution_count": 8,
   "id": "5936a9ed",
   "metadata": {},
   "outputs": [
    {
     "name": "stdout",
     "output_type": "stream",
     "text": [
      "['three vision india', 'year histori peopl world come invad us captur land conquer mind', 'alexand onward greek turk mogul portugues british french dutch came loot us took', 'yet done nation', 'conquer anyon', 'grab land cultur histori tri enforc way life', '', 'respect freedom other first vision freedom', 'believ india got first vision start war independ', 'freedom must protect nurtur build', 'free one respect us', 'second vision india develop', 'fifti year develop nation', 'time see develop nation', 'among top nation world term gdp', 'percent growth rate area', 'poverti level fall', 'achiev global recognis today', 'yet lack self confid see develop nation self reliant self assur', 'incorrect', 'third vision', 'india must stand world', 'believ unless india stand world one respect us', 'strength respect strength', 'must strong militari power also econom power', 'must go hand hand', 'good fortun work three great mind', 'dr vikram sarabhai dept', 'space professor satish dhawan succeed dr brahm prakash father nuclear materi', 'lucki work three close consid great opportun life', 'see four mileston career']\n"
     ]
    }
   ],
   "source": [
    "print(corpus)"
   ]
  },
  {
   "cell_type": "markdown",
   "id": "be39e74d",
   "metadata": {},
   "source": [
    "**Creating Bag Of Words**"
   ]
  },
  {
   "cell_type": "code",
   "execution_count": 9,
   "id": "05c111e6",
   "metadata": {},
   "outputs": [],
   "source": [
    "from sklearn.feature_extraction.text import CountVectorizer"
   ]
  },
  {
   "cell_type": "code",
   "execution_count": 10,
   "id": "072a8ec8",
   "metadata": {},
   "outputs": [],
   "source": [
    "cv = CountVectorizer()"
   ]
  },
  {
   "cell_type": "code",
   "execution_count": 11,
   "id": "d88ecc73",
   "metadata": {},
   "outputs": [
    {
     "name": "stdout",
     "output_type": "stream",
     "text": [
      "[[0 0 0 ... 0 0 0]\n",
      " [0 0 0 ... 1 1 0]\n",
      " [0 1 0 ... 0 0 0]\n",
      " ...\n",
      " [0 0 0 ... 0 0 0]\n",
      " [0 0 0 ... 0 0 0]\n",
      " [0 0 0 ... 0 0 0]]\n"
     ]
    }
   ],
   "source": [
    "X = cv.fit_transform(corpus).toarray()\n",
    "print(X)"
   ]
  },
  {
   "cell_type": "code",
   "execution_count": 12,
   "id": "bb0657f0",
   "metadata": {},
   "outputs": [
    {
     "name": "stdout",
     "output_type": "stream",
     "text": [
      "Vocabulary:\n",
      "['achiev' 'alexand' 'also' 'among' 'anyon' 'area' 'assur' 'believ' 'brahm'\n",
      " 'british' 'build' 'came' 'captur' 'career' 'close' 'come' 'confid'\n",
      " 'conquer' 'consid' 'cultur' 'dept' 'develop' 'dhawan' 'done' 'dr' 'dutch'\n",
      " 'econom' 'enforc' 'fall' 'father' 'fifti' 'first' 'fortun' 'four' 'free'\n",
      " 'freedom' 'french' 'gdp' 'global' 'go' 'good' 'got' 'grab' 'great'\n",
      " 'greek' 'growth' 'hand' 'histori' 'incorrect' 'independ' 'india' 'invad'\n",
      " 'lack' 'land' 'level' 'life' 'loot' 'lucki' 'materi' 'mileston'\n",
      " 'militari' 'mind' 'mogul' 'must' 'nation' 'nuclear' 'nurtur' 'one'\n",
      " 'onward' 'opportun' 'other' 'peopl' 'percent' 'portugues' 'poverti'\n",
      " 'power' 'prakash' 'professor' 'protect' 'rate' 'recognis' 'reliant'\n",
      " 'respect' 'sarabhai' 'satish' 'second' 'see' 'self' 'space' 'stand'\n",
      " 'start' 'strength' 'strong' 'succeed' 'term' 'third' 'three' 'time'\n",
      " 'today' 'took' 'top' 'tri' 'turk' 'unless' 'us' 'vikram' 'vision' 'war'\n",
      " 'way' 'work' 'world' 'year' 'yet']\n",
      "\n"
     ]
    }
   ],
   "source": [
    "print(\"Vocabulary:\")\n",
    "print(cv.get_feature_names_out())\n",
    "print()"
   ]
  }
 ],
 "metadata": {
  "kernelspec": {
   "display_name": "Python 3 (ipykernel)",
   "language": "python",
   "name": "python3"
  },
  "language_info": {
   "codemirror_mode": {
    "name": "ipython",
    "version": 3
   },
   "file_extension": ".py",
   "mimetype": "text/x-python",
   "name": "python",
   "nbconvert_exporter": "python",
   "pygments_lexer": "ipython3",
   "version": "3.9.12"
  }
 },
 "nbformat": 4,
 "nbformat_minor": 5
}
